{
 "cells": [
  {
   "attachments": {},
   "cell_type": "markdown",
   "metadata": {},
   "source": [
    "Imports"
   ]
  },
  {
   "attachments": {},
   "cell_type": "markdown",
   "metadata": {},
   "source": [
    "Step 7"
   ]
  },
  {
   "cell_type": "code",
   "execution_count": 162,
   "metadata": {},
   "outputs": [],
   "source": [
    "##imports##\n",
    "import pandas as pd\n",
    "import numpy as np \n",
    "import matplotlib.pyplot as plt\n",
    "import seaborn as sns\n",
    "import math\n"
   ]
  },
  {
   "attachments": {},
   "cell_type": "markdown",
   "metadata": {},
   "source": [
    "Reading the Data"
   ]
  },
  {
   "cell_type": "code",
   "execution_count": 149,
   "metadata": {},
   "outputs": [],
   "source": [
    "##read data##\n",
    "\n",
    "#step 8#\n",
    "file_path_layout = \"##please input the file path or the file name##\"\n",
    "file_path_data = \"##please input the file path or the file name##\"\n",
    "\n",
    "##if file .txt and not .csv then include an r before the \"\"parentheses\"\"\n",
    "##thus it will be \n",
    "##file_path_data = r\"##please input the file path or the file name##\"\n",
    "\n",
    "\n",
    "df_plate_reader_layout = pd.read_csv(file_path_layout)\n",
    "df_plate_reader_data = pd.read_csv(file_path_data)"
   ]
  },
  {
   "attachments": {},
   "cell_type": "markdown",
   "metadata": {},
   "source": [
    "Functions"
   ]
  },
  {
   "attachments": {},
   "cell_type": "markdown",
   "metadata": {},
   "source": [
    "Step 10"
   ]
  },
  {
   "cell_type": "code",
   "execution_count": 37,
   "metadata": {},
   "outputs": [],
   "source": [
    "## Is Nan function\n",
    "\n",
    "def isNaN(num):\n",
    "    return num != num"
   ]
  },
  {
   "cell_type": "code",
   "execution_count": 78,
   "metadata": {},
   "outputs": [],
   "source": [
    "##function that finds the number of groups in the layout\n",
    "def unique_samples_from_plate_layout(df):\n",
    "    df = df.iloc[:, 1:].reset_index(drop=True)\n",
    "    samples = set()\n",
    "\n",
    "    for i in range(df.shape[0] - 1):\n",
    "        for j in range(df.shape[1] - 1):\n",
    "            unique_sample = df.iloc[i, j]\n",
    "\n",
    "            if pd.isna(unique_sample):\n",
    "                continue\n",
    "\n",
    "            samples.add(unique_sample)\n",
    "\n",
    "    return list(samples)"
   ]
  },
  {
   "cell_type": "code",
   "execution_count": 103,
   "metadata": {},
   "outputs": [],
   "source": [
    "##finding values in the data that are mapped to the same layout position\n",
    "def find_values(string, layout, data_frame):\n",
    "    layout = layout.iloc[:, 1:]\n",
    "    data_frame = data_frame.iloc[:, 1:]\n",
    "    values = []\n",
    "\n",
    "    for ii in range(layout.shape[0]):\n",
    "        for jj in range(layout.shape[1]):\n",
    "            if layout.iloc[ii, jj] == string:\n",
    "                values.append(data_frame.iloc[ii, jj])\n",
    "\n",
    "    return values"
   ]
  },
  {
   "cell_type": "code",
   "execution_count": 159,
   "metadata": {},
   "outputs": [],
   "source": [
    "##Function that enumerates through the groups of the layout\n",
    "##Extracts the data in the corresponding plate map\n",
    "##placing this information into the correct column\n",
    "def developing_new_df_from_input_data(layout, data_plate_reader):\n",
    "    column_titles = unique_samples_from_plate_layout(layout)\n",
    "    num_rows = layout.shape[0]\n",
    "    num_cols = layout.shape[1]\n",
    "\n",
    "    df = pd.DataFrame(index=range(num_rows), columns=column_titles)\n",
    "\n",
    "    for ii, title in enumerate(column_titles):\n",
    "        cell_position = 0\n",
    "\n",
    "        for jj in range(num_rows):\n",
    "            for kk in range(num_cols):\n",
    "                if layout.iloc[jj, kk] == title:\n",
    "                    df.iloc[cell_position, ii] = data_plate_reader.iloc[jj, kk]\n",
    "                    cell_position += 1\n",
    "\n",
    "    return df"
   ]
  },
  {
   "cell_type": "code",
   "execution_count": null,
   "metadata": {},
   "outputs": [],
   "source": [
    "##A function to obtain the original density after a dilution\n",
    "def get_OD(ratio, final_volume, cell_position):\n",
    "    ratio_nums = ratio.split(':')\n",
    "    multiplyer = int (int(ratio_nums[1]) / int(ratio_nums[0]) )\n",
    "    a = multiplyer*final_volume*cell_position\n",
    "    return a"
   ]
  },
  {
   "cell_type": "code",
   "execution_count": 172,
   "metadata": {},
   "outputs": [],
   "source": [
    "##Function to calculate the original density and put it into the dataframe\n",
    "def calculate_the_original_density(df, columns_names_ajusted, diluted_to, final_volume):\n",
    "    for ii in range(len(columns_names_ajusted)):\n",
    "\n",
    "        name = columns_names_ajusted[ii]\n",
    "\n",
    "        df[str(name)] = get_OD(str(diluted_to[ii]), float(final_volume), df[str(name)])\n",
    "        \n",
    "    return df"
   ]
  },
  {
   "cell_type": "code",
   "execution_count": 2,
   "metadata": {},
   "outputs": [],
   "source": [
    "def finding_statistically_significant_groups_update(list_of_columns, p_value, dataframe_df, scaling_factor):\n",
    "    import matplotlib.pyplot as plt\n",
    "    import seaborn as sns\n",
    "    import itertools\n",
    "    import scipy.stats as stats\n",
    "\n",
    "    # Set up the plot\n",
    "    sns.set(style='whitegrid')\n",
    "    fig, axes = plt.subplots(1, 1, figsize=(12, 6), dpi=600)\n",
    "    new_df = dataframe_df[list_of_columns]\n",
    "\n",
    "    # Plot the data\n",
    "    sns.boxplot(data=new_df, ax=axes)\n",
    "\n",
    "    boxplot_height = axes.get_ylim()[1]  # Get the maximum height of the box plots\n",
    "\n",
    "    line_offset = scaling_factor  # Adjust this value to control the spacing between the lines\n",
    "\n",
    "    for i in range(len(list_of_columns)):\n",
    "        for j in range(i+1, len(list_of_columns)):\n",
    "            t_stat, p_val = stats.ttest_ind(new_df.iloc[:, i], new_df.iloc[:, j])\n",
    "\n",
    "            if p_val <= p_value:\n",
    "                x_pos = (i + j) / 2\n",
    "                y_pos = boxplot_height + line_offset  # Adjust the y-coordinate to be above the previous lines\n",
    "\n",
    "                plt.text(x_pos, y_pos, f\"p={p_val:.2e}\", ha='center', va='bottom', fontsize=8)\n",
    "\n",
    "                plt.plot([i, j], [y_pos, y_pos], 'k--')\n",
    "\n",
    "                line_offset += scaling_factor  # Increase the line offset for the next line\n",
    "\n",
    "    return fig"
   ]
  },
  {
   "attachments": {},
   "cell_type": "markdown",
   "metadata": {},
   "source": [
    "End of Functions\n",
    "\n",
    "Calling/Running functions"
   ]
  },
  {
   "attachments": {},
   "cell_type": "markdown",
   "metadata": {},
   "source": [
    "Step 11"
   ]
  },
  {
   "cell_type": "code",
   "execution_count": null,
   "metadata": {},
   "outputs": [],
   "source": [
    "df = developing_new_df_from_input_data(df_plate_reader_layout, df_plate_reader_data)"
   ]
  },
  {
   "attachments": {},
   "cell_type": "markdown",
   "metadata": {},
   "source": [
    "Step 12"
   ]
  },
  {
   "cell_type": "code",
   "execution_count": null,
   "metadata": {},
   "outputs": [],
   "source": [
    "print(df)"
   ]
  },
  {
   "attachments": {},
   "cell_type": "markdown",
   "metadata": {},
   "source": [
    "Dilutions Steps 13-18"
   ]
  },
  {
   "cell_type": "code",
   "execution_count": null,
   "metadata": {},
   "outputs": [],
   "source": [
    "columns_need_to_be_adjusted = ['##change name to group name##', '##change name to group name##']\n",
    "diluted_from_original_density = ['##change to correct dilution##', '##change to correct dilution##']\n",
    "final_volume_in_ml = ##change to correct final volume amount##"
   ]
  },
  {
   "cell_type": "code",
   "execution_count": null,
   "metadata": {},
   "outputs": [],
   "source": [
    "df = calculate_the_original_density(df,columns_need_to_be_adjusted, diluted_from_original_density, final_volume_in_ml)"
   ]
  },
  {
   "attachments": {},
   "cell_type": "markdown",
   "metadata": {},
   "source": [
    "Graphing the Data Steps 19-27"
   ]
  },
  {
   "cell_type": "code",
   "execution_count": 169,
   "metadata": {},
   "outputs": [
    {
     "name": "stderr",
     "output_type": "stream",
     "text": [
      "/Users/zach/Documents/Education/Undergrad (UWEC)/Summer 2023/UCLA/.venv/lib/python3.9/site-packages/seaborn/algorithms.py:98: RuntimeWarning: Mean of empty slice\n",
      "  boot_dist.append(f(*sample, **func_kwargs))\n",
      "/Users/zach/Documents/Education/Undergrad (UWEC)/Summer 2023/UCLA/.venv/lib/python3.9/site-packages/seaborn/algorithms.py:98: RuntimeWarning: Mean of empty slice\n",
      "  boot_dist.append(f(*sample, **func_kwargs))\n"
     ]
    },
    {
     "data": {
      "image/png": "[encoded data removed]",
      "text/plain": [
       "<Figure size 1200x600 with 3 Axes>"
      ]
     },
     "metadata": {},
     "output_type": "display_data"
    }
   ],
   "source": [
    "##Graphing the data\n",
    "\n",
    "#set up the style, personally I am a fan of 'whitegrid'\n",
    "sns.set(style='##choose your style##')\n",
    "\n",
    "#setting up the figure, axes, and figure size\n",
    "fig, axes = plt.subplots(1, 3, figsize=(12, 6), dpi = 600)\n",
    "\n",
    "#Choosing the graphs and the x-axis groupins\n",
    "graph1 = ['##group 1##', '##group 2##', '##group 3##', '##group 4##',\n",
    "           '##group 5##', '##group 6##', '##group 7##', '##group 8##']\n",
    "graph2 = ['##group 1##', '##group 2##', '##group 3##', '##group 4##',\n",
    "           '##group 5##', '##group 6##', '##group 7##', '##group 8##']\n",
    "graph3 = ['##group 1##', '##group 2##', '##group 3##', '##group 4##',\n",
    "           '##group 5##', '##group 6##', '##group 7##', '##group 8##']\n",
    "\n",
    "#plotting the data\n",
    "sns.barplot(data=df[graph1], ax=axes[0])\n",
    "sns.lineplot(data=df[graph2], ax=axes[1])\n",
    "sns.boxplot(data=df[graph3], ax=axes[2])\n",
    "\n",
    "#choosing the labels and titles\n",
    "axes[0].set_xlabel('##set x label##')\n",
    "axes[0].set_ylabel('##set y label##')\n",
    "axes[0].set_title('## set title##')\n",
    "\n",
    "\n",
    "axes[1].set_xlabel('##set x label##')\n",
    "axes[1].set_ylabel('##set y label##')\n",
    "axes[1].set_title('## set title##')\n",
    "\n",
    "\n",
    "axes[2].set_xlabel('##set x label##')\n",
    "axes[2].set_ylabel('##set y label##')\n",
    "axes[2].set_title('## set title##')\n",
    "\n",
    "#figure supertitle\n",
    "fig.suptitle('##set figure super title##', fontsize=16)\n",
    "\n",
    "#ploting the graphs\n",
    "plt.tight_layout()\n",
    " \n",
    "##saving the data and graphs\n",
    "\n",
    "##plt.savefig('##please put the name that you want##.png' )\n",
    "\n",
    "#showing us the data\n",
    "plt.show()\n"
   ]
  },
  {
   "cell_type": "code",
   "execution_count": null,
   "metadata": {},
   "outputs": [],
   "source": [
    "fig, axes = finding_statistically_significant_groups_update(##list of groups##, ##pvalue##, df, scaling_factor)\n",
    "axes.set_ylabel(##choose you y label)\n",
    "axes.set_title(##choose you title)\n",
    "\n",
    "##plt.savefig('##save file to name you want##.png')"
   ]
  }
 ],
 "metadata": {
  "kernelspec": {
   "display_name": ".venv",
   "language": "python",
   "name": "python3"
  },
  "language_info": {
   "codemirror_mode": {
    "name": "ipython",
    "version": 3
   },
   "file_extension": ".py",
   "mimetype": "text/x-python",
   "name": "python",
   "nbconvert_exporter": "python",
   "pygments_lexer": "ipython3",
   "version": "3.9.7"
  },
  "orig_nbformat": 4
 },
 "nbformat": 4,
 "nbformat_minor": 2
}
